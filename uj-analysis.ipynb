{
 "cells": [
  {
   "cell_type": "code",
   "execution_count": 14,
   "metadata": {},
   "outputs": [],
   "source": [
    "from google.cloud import bigquery\n",
    "import pandas as pd\n",
    "import plotly.graph_objects as go\n",
    "import plotly.io as pio\n",
    "import kaleido"
   ]
  },
  {
   "cell_type": "code",
   "execution_count": 13,
   "metadata": {},
   "outputs": [],
   "source": [
    "# Clients\n",
    "client = bigquery.Client(project=\"starbucks-uk\")"
   ]
  },
  {
   "cell_type": "code",
   "execution_count": 15,
   "metadata": {},
   "outputs": [
    {
     "name": "stdout",
     "output_type": "stream",
     "text": [
      "Available market, starLoyaltyLevel, segment, and user_type combinations:\n",
      "      market starLoyaltyLevel                 segment  user_type\n",
      "0         AE             GOLD            bounced user        new\n",
      "4         AE             GOLD            bounced user  returning\n",
      "356       AE             GOLD  frequent non-purchaser        new\n",
      "473       AE             GOLD  frequent non-purchaser  returning\n",
      "1645      AE             GOLD      frequent purchaser        new\n",
      "1670      AE             GOLD      frequent purchaser  returning\n",
      "2667      AE            GREEN            bounced user        new\n",
      "2699      AE            GREEN            bounced user  returning\n",
      "3055      AE            GREEN  frequent non-purchaser        new\n",
      "3368      AE            GREEN  frequent non-purchaser  returning\n",
      "4542      AE            GREEN      frequent purchaser        new\n",
      "4547      AE            GREEN      frequent purchaser  returning\n",
      "5199      AE          WELCOME  frequent non-purchaser        new\n",
      "5205      AE          WELCOME  frequent non-purchaser  returning\n",
      "5224      AE          WELCOME      frequent purchaser  returning\n",
      "5247      ES             GOLD            bounced user  returning\n",
      "5862      ES             GOLD  frequent non-purchaser        new\n",
      "5979      ES             GOLD  frequent non-purchaser  returning\n",
      "7470      ES             GOLD      frequent purchaser        new\n",
      "7547      ES             GOLD      frequent purchaser  returning\n",
      "8695      ES            GREEN            bounced user        new\n",
      "8727      ES            GREEN            bounced user  returning\n",
      "9420      ES            GREEN  frequent non-purchaser        new\n",
      "9924      ES            GREEN  frequent non-purchaser  returning\n",
      "11440     ES            GREEN      frequent purchaser        new\n",
      "11550     ES            GREEN      frequent purchaser  returning\n",
      "12345     ES          WELCOME  frequent non-purchaser  returning\n",
      "12442     ES          WELCOME      frequent purchaser  returning\n",
      "12491     KW             GOLD  frequent non-purchaser        new\n",
      "12524     KW             GOLD  frequent non-purchaser  returning\n",
      "13118     KW             GOLD      frequent purchaser        new\n",
      "13162     KW             GOLD      frequent purchaser  returning\n",
      "13780     KW            GREEN            bounced user  returning\n",
      "13837     KW            GREEN  frequent non-purchaser        new\n",
      "13943     KW            GREEN  frequent non-purchaser  returning\n",
      "14662     KW            GREEN      frequent purchaser        new\n",
      "14670     KW            GREEN      frequent purchaser  returning\n",
      "15132     KW          WELCOME  frequent non-purchaser        new\n",
      "15135     KW          WELCOME  frequent non-purchaser  returning\n",
      "15151     KW          WELCOME      frequent purchaser  returning\n",
      "15177     SA             GOLD  frequent non-purchaser        new\n",
      "15270     SA             GOLD  frequent non-purchaser  returning\n",
      "15805     SA            GREEN  frequent non-purchaser        new\n",
      "16020     SA            GREEN  frequent non-purchaser  returning\n",
      "16611     SA          WELCOME  frequent non-purchaser        new\n",
      "16612     SA          WELCOME  frequent non-purchaser  returning\n",
      "16646     UK             GOLD            bounced user        new\n",
      "16812     UK             GOLD            bounced user  returning\n",
      "18598     UK             GOLD  frequent non-purchaser        new\n",
      "19000     UK             GOLD  frequent non-purchaser  returning\n",
      "21681     UK             GOLD      frequent purchaser        new\n",
      "22378     UK             GOLD      frequent purchaser  returning\n",
      "25581     UK            GREEN            bounced user        new\n",
      "25857     UK            GREEN            bounced user  returning\n",
      "27386     UK            GREEN  frequent non-purchaser        new\n",
      "28272     UK            GREEN  frequent non-purchaser  returning\n",
      "30615     UK            GREEN      frequent purchaser        new\n",
      "31392     UK            GREEN      frequent purchaser  returning\n",
      "33845     UK          WELCOME  frequent non-purchaser  returning\n",
      "34074     UK          WELCOME      frequent purchaser  returning\n"
     ]
    }
   ],
   "source": [
    "# BQ Read\n",
    "\n",
    "query = \"\"\"\n",
    "    SELECT market, starLoyaltyLevel, segment, user_type, source_step, target_step, transition_count, sequence_number\n",
    "    FROM `starbucks-uk.monks_homepage_analysis.conversion_pathways_long_event_aggregated_android`\n",
    "\"\"\"\n",
    "data = client.query(query).to_dataframe()\n",
    "if data.empty:\n",
    "    print(\"No data returned from BigQuery. Check your table and query.\")\n",
    "    exit()\n",
    "\n",
    "# Data Transformation\n",
    "data[\"target_step\"] = data[\"target_step\"].replace({None: \"end\", \"null\": \"end\"})\n",
    "\n",
    "# 1. Remove transitions where source_step == target_step (self-loops)\n",
    "data = data[data[\"source_step\"] != data[\"target_step\"]]\n",
    "\n",
    "# 2. Filter out cases where the first node doesn't start with sequence_number == 1\n",
    "data = data[\n",
    "    (data[\"source_step\"] == \"start\") & (data[\"sequence_number\"] == 1)\n",
    "    | (data[\"source_step\"] != \"start\")\n",
    "]\n",
    "\n",
    "# Aggregation\n",
    "aggregated_data = (\n",
    "    data.groupby(\n",
    "        [\n",
    "            \"market\",\n",
    "            \"starLoyaltyLevel\",\n",
    "            \"segment\",\n",
    "            \"user_type\",\n",
    "            \"source_step\",\n",
    "            \"target_step\",\n",
    "        ]\n",
    "    )[\"transition_count\"]\n",
    "    .sum()\n",
    "    .reset_index()\n",
    ")\n",
    "\n",
    "# Print distinct combinations\n",
    "market_star_segment_user_combinations = aggregated_data[\n",
    "    [\"market\", \"starLoyaltyLevel\", \"segment\", \"user_type\"]\n",
    "].drop_duplicates()\n",
    "print(\"Available market, starLoyaltyLevel, segment, and user_type combinations:\")\n",
    "print(market_star_segment_user_combinations)"
   ]
  },
  {
   "cell_type": "code",
   "execution_count": 16,
   "metadata": {},
   "outputs": [],
   "source": [
    "def generate_sankey(\n",
    "    market_input=None,\n",
    "    starLoyaltyLevel_input=None,\n",
    "    segment_input=None,\n",
    "    user_type_input=None,\n",
    "    top_n=250,\n",
    "    file_prefix=\"sankey_diagram\", \n",
    "):\n",
    "    # Filtered input\n",
    "    filtered_data = data.copy()\n",
    "\n",
    "    if market_input:\n",
    "        filtered_data = filtered_data[filtered_data[\"market\"] == market_input]\n",
    "    if starLoyaltyLevel_input:\n",
    "        filtered_data = filtered_data[\n",
    "            filtered_data[\"starLoyaltyLevel\"] == starLoyaltyLevel_input\n",
    "        ]\n",
    "    if segment_input:\n",
    "        filtered_data = filtered_data[filtered_data[\"segment\"] == segment_input]\n",
    "    if user_type_input:\n",
    "        filtered_data = filtered_data[filtered_data[\"user_type\"] == user_type_input]\n",
    "\n",
    "    if filtered_data.empty:\n",
    "        print(\"No data available for the specified filters.\")\n",
    "        return\n",
    "\n",
    "    # Level 1 Set up\n",
    "    level_1_data = filtered_data[\n",
    "        (filtered_data[\"source_step\"] == \"start\")\n",
    "        & (filtered_data[\"sequence_number\"] == 1)\n",
    "    ]\n",
    "\n",
    "    if level_1_data.empty:\n",
    "        print(\"No valid level 1 data found.\")\n",
    "        return\n",
    "\n",
    "    # Collect targets of level 1\n",
    "    valid_targets_level_1 = level_1_data[\"target_step\"].unique()\n",
    "\n",
    "    # Filter second-level transitions starting from valid_targets_level_1\n",
    "    level_2_data = filtered_data[\n",
    "        filtered_data[\"source_step\"].isin(valid_targets_level_1)\n",
    "    ]\n",
    "\n",
    "    valid_targets_level_2 = level_2_data[\"target_step\"].unique()\n",
    "\n",
    "    # Filter third-level transitions starting from valid_targets_level_2\n",
    "    level_3_data = filtered_data[\n",
    "        filtered_data[\"source_step\"].isin(valid_targets_level_2)\n",
    "    ]\n",
    "\n",
    "    # Combine all three levels\n",
    "    combined_data = pd.concat([level_1_data, level_2_data, level_3_data])\n",
    "\n",
    "    if combined_data.empty:\n",
    "        print(\"No valid data found after combining levels.\")\n",
    "        return\n",
    "\n",
    "    # Ensure we only take the top N transitions based on transition_count (Otherweise the chart can get too crowded)\n",
    "    combined_data = combined_data.nlargest(top_n, \"transition_count\")\n",
    "\n",
    "    # Group nodes under 'Other' if they are below x% of the total transitions. You can specify that in the threshold variable\n",
    "    total_transitions = combined_data[\"transition_count\"].sum()\n",
    "    threshold = total_transitions * 0.02\n",
    "\n",
    "    combined_data[\"source_step\"] = combined_data[\"source_step\"].apply(\n",
    "        lambda x: (\n",
    "            \"Other\"\n",
    "            if combined_data[combined_data[\"source_step\"] == x][\n",
    "                \"transition_count\"\n",
    "            ].sum()\n",
    "            < threshold\n",
    "            else x\n",
    "        )\n",
    "    )\n",
    "    combined_data[\"target_step\"] = combined_data[\"target_step\"].apply(\n",
    "        lambda x: (\n",
    "            \"Other\"\n",
    "            if combined_data[combined_data[\"target_step\"] == x][\n",
    "                \"transition_count\"\n",
    "            ].sum()\n",
    "            < threshold\n",
    "            else x\n",
    "        )\n",
    "    )\n",
    "\n",
    "    # Aggregation\n",
    "    combined_data = (\n",
    "        combined_data.groupby([\"source_step\", \"target_step\"])[\"transition_count\"]\n",
    "        .sum()\n",
    "        .reset_index()\n",
    "    )\n",
    "\n",
    "    if combined_data.empty:\n",
    "        print(\"No data left after applying 'Other' grouping.\")\n",
    "        return\n",
    "\n",
    "    # Source - Target Mapping\n",
    "    nodes = list(\n",
    "        pd.concat([combined_data[\"source_step\"], combined_data[\"target_step\"]]).unique()\n",
    "    )\n",
    "    source_indices = [nodes.index(src) for src in combined_data[\"source_step\"]]\n",
    "    target_indices = [nodes.index(tgt) for tgt in combined_data[\"target_step\"]]\n",
    "    values = combined_data[\"transition_count\"].tolist()\n",
    "\n",
    "    # Debugging Outputs\n",
    "    print(\"Nodes:\", nodes)\n",
    "    print(\"Source Indices:\", source_indices)\n",
    "    print(\"Target Indices:\", target_indices)\n",
    "    print(\"Values:\", values)\n",
    "\n",
    "    # Count occurrences of each node\n",
    "    node_counts = {node: 0 for node in nodes}\n",
    "    for _, row in combined_data.iterrows():\n",
    "        node_counts[row[\"source_step\"]] += row[\"transition_count\"]\n",
    "        node_counts[row[\"target_step\"]] += row[\"transition_count\"]\n",
    "\n",
    "    # Calculate percentages for nodes\n",
    "    node_percentages = {\n",
    "        node: (node_counts[node] / total_transitions) * 100 for node in nodes\n",
    "    }\n",
    "\n",
    "    # Compact number format\n",
    "    def compact_number(num):\n",
    "        if num >= 1_000_000:\n",
    "            return f\"{num / 1_000_000:.1f}M\"\n",
    "        elif num >= 1_000:\n",
    "            return f\"{num / 1_000:.1f}K\"\n",
    "        else:\n",
    "            return str(num)\n",
    "\n",
    "    # Sankey\n",
    "    fig = go.Figure(\n",
    "        go.Sankey(\n",
    "            node=dict(\n",
    "                pad=20,\n",
    "                thickness=20,\n",
    "                label=[\n",
    "                    (\n",
    "                        f\"{node} ({compact_number(node_counts[node])} - {node_percentages[node]:.1f}%)\"\n",
    "                        if node not in [\"start\"]\n",
    "                        else f\"{node}\"\n",
    "                    )\n",
    "                    for node in nodes\n",
    "                ],\n",
    "            ),\n",
    "            link=dict(source=source_indices, target=target_indices, value=values),\n",
    "        )\n",
    "    )\n",
    "\n",
    "    market_display = market_input if market_input else \"All Markets\"\n",
    "    starLoyaltyLevel_display = (\n",
    "        starLoyaltyLevel_input if starLoyaltyLevel_input else \"All Star Loyalty Levels\"\n",
    "    )\n",
    "    segment_display = segment_input if segment_input else \"All Segments\"\n",
    "    user_type_display = user_type_input if user_type_input else \"All User Types\"\n",
    "    fig.update_layout(\n",
    "        title={\n",
    "            \"text\": f\"User Journey Analysis<br><sub>Market - {market_display} | Star Loyalty Level - {starLoyaltyLevel_display} | Segment - {segment_display} | User Type - {user_type_display}</sub>\",\n",
    "            \"font\": {\"size\": 18},\n",
    "            \"x\": 0.5,\n",
    "            \"xanchor\": \"center\",\n",
    "        },\n",
    "        font=dict(size=12),\n",
    "        height=800,\n",
    "        width=1600,\n",
    "    )\n",
    "\n",
    "    # Save as PNG\n",
    "    file_name = f\"{file_prefix}_{market_input or 'AllMarkets'}_{starLoyaltyLevel_input or 'AllLevels'}_{segment_input or 'AllSegments'}_{user_type_input or 'AllUserTypes'}.png\"\n",
    "    fig.write_image(file_name, format=\"png\", scale=2)\n",
    "    print(f\"Sankey diagram saved to '{file_name}'.\")\n",
    "    fig.show()"
   ]
  },
  {
   "cell_type": "code",
   "execution_count": 20,
   "metadata": {},
   "outputs": [
    {
     "name": "stdout",
     "output_type": "stream",
     "text": [
      "Nodes: ['start', 'tap_bottom_navigation_order_tab', 'tap_change_store', 'tap_home_link', 'tap_menu_menu_navigation_link', 'tap_scan_link', 'Other', 'end']\n",
      "Source Indices: [0, 0, 0, 0, 0, 0, 1, 1, 2, 3, 3, 4, 5, 5]\n",
      "Target Indices: [6, 7, 1, 3, 4, 5, 6, 4, 4, 7, 5, 1, 7, 3]\n",
      "Values: [48165, 102331, 64103, 88834, 73959, 883981, 57224, 187064, 167330, 221662, 60792, 146844, 976040, 350558]\n",
      "Sankey diagram saved to 'android_AllMarkets_GOLD_AllSegments_AllUserTypes.png'.\n"
     ]
    },
    {
     "data": {
      "application/vnd.plotly.v1+json": {
       "config": {
        "plotlyServerURL": "https://plot.ly"
       },
       "data": [
        {
         "link": {
          "source": [
           0,
           0,
           0,
           0,
           0,
           0,
           1,
           1,
           2,
           3,
           3,
           4,
           5,
           5
          ],
          "target": [
           6,
           7,
           1,
           3,
           4,
           5,
           6,
           4,
           4,
           7,
           5,
           1,
           7,
           3
          ],
          "value": [
           48165,
           102331,
           64103,
           88834,
           73959,
           883981,
           57224,
           187064,
           167330,
           221662,
           60792,
           146844,
           976040,
           350558
          ]
         },
         "node": {
          "label": [
           "start",
           "tap_bottom_navigation_order_tab (455.2K - 13.3%)",
           "tap_change_store (167.3K - 4.9%)",
           "tap_home_link (721.8K - 21.1%)",
           "tap_menu_menu_navigation_link (575.2K - 16.8%)",
           "tap_scan_link (2.3M - 66.2%)",
           "Other (105.4K - 3.1%)",
           "end (1.3M - 37.9%)"
          ],
          "pad": 20,
          "thickness": 20
         },
         "type": "sankey"
        }
       ],
       "layout": {
        "font": {
         "size": 12
        },
        "height": 800,
        "template": {
         "data": {
          "bar": [
           {
            "error_x": {
             "color": "#2a3f5f"
            },
            "error_y": {
             "color": "#2a3f5f"
            },
            "marker": {
             "line": {
              "color": "#E5ECF6",
              "width": 0.5
             },
             "pattern": {
              "fillmode": "overlay",
              "size": 10,
              "solidity": 0.2
             }
            },
            "type": "bar"
           }
          ],
          "barpolar": [
           {
            "marker": {
             "line": {
              "color": "#E5ECF6",
              "width": 0.5
             },
             "pattern": {
              "fillmode": "overlay",
              "size": 10,
              "solidity": 0.2
             }
            },
            "type": "barpolar"
           }
          ],
          "carpet": [
           {
            "aaxis": {
             "endlinecolor": "#2a3f5f",
             "gridcolor": "white",
             "linecolor": "white",
             "minorgridcolor": "white",
             "startlinecolor": "#2a3f5f"
            },
            "baxis": {
             "endlinecolor": "#2a3f5f",
             "gridcolor": "white",
             "linecolor": "white",
             "minorgridcolor": "white",
             "startlinecolor": "#2a3f5f"
            },
            "type": "carpet"
           }
          ],
          "choropleth": [
           {
            "colorbar": {
             "outlinewidth": 0,
             "ticks": ""
            },
            "type": "choropleth"
           }
          ],
          "contour": [
           {
            "colorbar": {
             "outlinewidth": 0,
             "ticks": ""
            },
            "colorscale": [
             [
              0,
              "#0d0887"
             ],
             [
              0.1111111111111111,
              "#46039f"
             ],
             [
              0.2222222222222222,
              "#7201a8"
             ],
             [
              0.3333333333333333,
              "#9c179e"
             ],
             [
              0.4444444444444444,
              "#bd3786"
             ],
             [
              0.5555555555555556,
              "#d8576b"
             ],
             [
              0.6666666666666666,
              "#ed7953"
             ],
             [
              0.7777777777777778,
              "#fb9f3a"
             ],
             [
              0.8888888888888888,
              "#fdca26"
             ],
             [
              1,
              "#f0f921"
             ]
            ],
            "type": "contour"
           }
          ],
          "contourcarpet": [
           {
            "colorbar": {
             "outlinewidth": 0,
             "ticks": ""
            },
            "type": "contourcarpet"
           }
          ],
          "heatmap": [
           {
            "colorbar": {
             "outlinewidth": 0,
             "ticks": ""
            },
            "colorscale": [
             [
              0,
              "#0d0887"
             ],
             [
              0.1111111111111111,
              "#46039f"
             ],
             [
              0.2222222222222222,
              "#7201a8"
             ],
             [
              0.3333333333333333,
              "#9c179e"
             ],
             [
              0.4444444444444444,
              "#bd3786"
             ],
             [
              0.5555555555555556,
              "#d8576b"
             ],
             [
              0.6666666666666666,
              "#ed7953"
             ],
             [
              0.7777777777777778,
              "#fb9f3a"
             ],
             [
              0.8888888888888888,
              "#fdca26"
             ],
             [
              1,
              "#f0f921"
             ]
            ],
            "type": "heatmap"
           }
          ],
          "heatmapgl": [
           {
            "colorbar": {
             "outlinewidth": 0,
             "ticks": ""
            },
            "colorscale": [
             [
              0,
              "#0d0887"
             ],
             [
              0.1111111111111111,
              "#46039f"
             ],
             [
              0.2222222222222222,
              "#7201a8"
             ],
             [
              0.3333333333333333,
              "#9c179e"
             ],
             [
              0.4444444444444444,
              "#bd3786"
             ],
             [
              0.5555555555555556,
              "#d8576b"
             ],
             [
              0.6666666666666666,
              "#ed7953"
             ],
             [
              0.7777777777777778,
              "#fb9f3a"
             ],
             [
              0.8888888888888888,
              "#fdca26"
             ],
             [
              1,
              "#f0f921"
             ]
            ],
            "type": "heatmapgl"
           }
          ],
          "histogram": [
           {
            "marker": {
             "pattern": {
              "fillmode": "overlay",
              "size": 10,
              "solidity": 0.2
             }
            },
            "type": "histogram"
           }
          ],
          "histogram2d": [
           {
            "colorbar": {
             "outlinewidth": 0,
             "ticks": ""
            },
            "colorscale": [
             [
              0,
              "#0d0887"
             ],
             [
              0.1111111111111111,
              "#46039f"
             ],
             [
              0.2222222222222222,
              "#7201a8"
             ],
             [
              0.3333333333333333,
              "#9c179e"
             ],
             [
              0.4444444444444444,
              "#bd3786"
             ],
             [
              0.5555555555555556,
              "#d8576b"
             ],
             [
              0.6666666666666666,
              "#ed7953"
             ],
             [
              0.7777777777777778,
              "#fb9f3a"
             ],
             [
              0.8888888888888888,
              "#fdca26"
             ],
             [
              1,
              "#f0f921"
             ]
            ],
            "type": "histogram2d"
           }
          ],
          "histogram2dcontour": [
           {
            "colorbar": {
             "outlinewidth": 0,
             "ticks": ""
            },
            "colorscale": [
             [
              0,
              "#0d0887"
             ],
             [
              0.1111111111111111,
              "#46039f"
             ],
             [
              0.2222222222222222,
              "#7201a8"
             ],
             [
              0.3333333333333333,
              "#9c179e"
             ],
             [
              0.4444444444444444,
              "#bd3786"
             ],
             [
              0.5555555555555556,
              "#d8576b"
             ],
             [
              0.6666666666666666,
              "#ed7953"
             ],
             [
              0.7777777777777778,
              "#fb9f3a"
             ],
             [
              0.8888888888888888,
              "#fdca26"
             ],
             [
              1,
              "#f0f921"
             ]
            ],
            "type": "histogram2dcontour"
           }
          ],
          "mesh3d": [
           {
            "colorbar": {
             "outlinewidth": 0,
             "ticks": ""
            },
            "type": "mesh3d"
           }
          ],
          "parcoords": [
           {
            "line": {
             "colorbar": {
              "outlinewidth": 0,
              "ticks": ""
             }
            },
            "type": "parcoords"
           }
          ],
          "pie": [
           {
            "automargin": true,
            "type": "pie"
           }
          ],
          "scatter": [
           {
            "fillpattern": {
             "fillmode": "overlay",
             "size": 10,
             "solidity": 0.2
            },
            "type": "scatter"
           }
          ],
          "scatter3d": [
           {
            "line": {
             "colorbar": {
              "outlinewidth": 0,
              "ticks": ""
             }
            },
            "marker": {
             "colorbar": {
              "outlinewidth": 0,
              "ticks": ""
             }
            },
            "type": "scatter3d"
           }
          ],
          "scattercarpet": [
           {
            "marker": {
             "colorbar": {
              "outlinewidth": 0,
              "ticks": ""
             }
            },
            "type": "scattercarpet"
           }
          ],
          "scattergeo": [
           {
            "marker": {
             "colorbar": {
              "outlinewidth": 0,
              "ticks": ""
             }
            },
            "type": "scattergeo"
           }
          ],
          "scattergl": [
           {
            "marker": {
             "colorbar": {
              "outlinewidth": 0,
              "ticks": ""
             }
            },
            "type": "scattergl"
           }
          ],
          "scattermapbox": [
           {
            "marker": {
             "colorbar": {
              "outlinewidth": 0,
              "ticks": ""
             }
            },
            "type": "scattermapbox"
           }
          ],
          "scatterpolar": [
           {
            "marker": {
             "colorbar": {
              "outlinewidth": 0,
              "ticks": ""
             }
            },
            "type": "scatterpolar"
           }
          ],
          "scatterpolargl": [
           {
            "marker": {
             "colorbar": {
              "outlinewidth": 0,
              "ticks": ""
             }
            },
            "type": "scatterpolargl"
           }
          ],
          "scatterternary": [
           {
            "marker": {
             "colorbar": {
              "outlinewidth": 0,
              "ticks": ""
             }
            },
            "type": "scatterternary"
           }
          ],
          "surface": [
           {
            "colorbar": {
             "outlinewidth": 0,
             "ticks": ""
            },
            "colorscale": [
             [
              0,
              "#0d0887"
             ],
             [
              0.1111111111111111,
              "#46039f"
             ],
             [
              0.2222222222222222,
              "#7201a8"
             ],
             [
              0.3333333333333333,
              "#9c179e"
             ],
             [
              0.4444444444444444,
              "#bd3786"
             ],
             [
              0.5555555555555556,
              "#d8576b"
             ],
             [
              0.6666666666666666,
              "#ed7953"
             ],
             [
              0.7777777777777778,
              "#fb9f3a"
             ],
             [
              0.8888888888888888,
              "#fdca26"
             ],
             [
              1,
              "#f0f921"
             ]
            ],
            "type": "surface"
           }
          ],
          "table": [
           {
            "cells": {
             "fill": {
              "color": "#EBF0F8"
             },
             "line": {
              "color": "white"
             }
            },
            "header": {
             "fill": {
              "color": "#C8D4E3"
             },
             "line": {
              "color": "white"
             }
            },
            "type": "table"
           }
          ]
         },
         "layout": {
          "annotationdefaults": {
           "arrowcolor": "#2a3f5f",
           "arrowhead": 0,
           "arrowwidth": 1
          },
          "autotypenumbers": "strict",
          "coloraxis": {
           "colorbar": {
            "outlinewidth": 0,
            "ticks": ""
           }
          },
          "colorscale": {
           "diverging": [
            [
             0,
             "#8e0152"
            ],
            [
             0.1,
             "#c51b7d"
            ],
            [
             0.2,
             "#de77ae"
            ],
            [
             0.3,
             "#f1b6da"
            ],
            [
             0.4,
             "#fde0ef"
            ],
            [
             0.5,
             "#f7f7f7"
            ],
            [
             0.6,
             "#e6f5d0"
            ],
            [
             0.7,
             "#b8e186"
            ],
            [
             0.8,
             "#7fbc41"
            ],
            [
             0.9,
             "#4d9221"
            ],
            [
             1,
             "#276419"
            ]
           ],
           "sequential": [
            [
             0,
             "#0d0887"
            ],
            [
             0.1111111111111111,
             "#46039f"
            ],
            [
             0.2222222222222222,
             "#7201a8"
            ],
            [
             0.3333333333333333,
             "#9c179e"
            ],
            [
             0.4444444444444444,
             "#bd3786"
            ],
            [
             0.5555555555555556,
             "#d8576b"
            ],
            [
             0.6666666666666666,
             "#ed7953"
            ],
            [
             0.7777777777777778,
             "#fb9f3a"
            ],
            [
             0.8888888888888888,
             "#fdca26"
            ],
            [
             1,
             "#f0f921"
            ]
           ],
           "sequentialminus": [
            [
             0,
             "#0d0887"
            ],
            [
             0.1111111111111111,
             "#46039f"
            ],
            [
             0.2222222222222222,
             "#7201a8"
            ],
            [
             0.3333333333333333,
             "#9c179e"
            ],
            [
             0.4444444444444444,
             "#bd3786"
            ],
            [
             0.5555555555555556,
             "#d8576b"
            ],
            [
             0.6666666666666666,
             "#ed7953"
            ],
            [
             0.7777777777777778,
             "#fb9f3a"
            ],
            [
             0.8888888888888888,
             "#fdca26"
            ],
            [
             1,
             "#f0f921"
            ]
           ]
          },
          "colorway": [
           "#636efa",
           "#EF553B",
           "#00cc96",
           "#ab63fa",
           "#FFA15A",
           "#19d3f3",
           "#FF6692",
           "#B6E880",
           "#FF97FF",
           "#FECB52"
          ],
          "font": {
           "color": "#2a3f5f"
          },
          "geo": {
           "bgcolor": "white",
           "lakecolor": "white",
           "landcolor": "#E5ECF6",
           "showlakes": true,
           "showland": true,
           "subunitcolor": "white"
          },
          "hoverlabel": {
           "align": "left"
          },
          "hovermode": "closest",
          "mapbox": {
           "style": "light"
          },
          "paper_bgcolor": "white",
          "plot_bgcolor": "#E5ECF6",
          "polar": {
           "angularaxis": {
            "gridcolor": "white",
            "linecolor": "white",
            "ticks": ""
           },
           "bgcolor": "#E5ECF6",
           "radialaxis": {
            "gridcolor": "white",
            "linecolor": "white",
            "ticks": ""
           }
          },
          "scene": {
           "xaxis": {
            "backgroundcolor": "#E5ECF6",
            "gridcolor": "white",
            "gridwidth": 2,
            "linecolor": "white",
            "showbackground": true,
            "ticks": "",
            "zerolinecolor": "white"
           },
           "yaxis": {
            "backgroundcolor": "#E5ECF6",
            "gridcolor": "white",
            "gridwidth": 2,
            "linecolor": "white",
            "showbackground": true,
            "ticks": "",
            "zerolinecolor": "white"
           },
           "zaxis": {
            "backgroundcolor": "#E5ECF6",
            "gridcolor": "white",
            "gridwidth": 2,
            "linecolor": "white",
            "showbackground": true,
            "ticks": "",
            "zerolinecolor": "white"
           }
          },
          "shapedefaults": {
           "line": {
            "color": "#2a3f5f"
           }
          },
          "ternary": {
           "aaxis": {
            "gridcolor": "white",
            "linecolor": "white",
            "ticks": ""
           },
           "baxis": {
            "gridcolor": "white",
            "linecolor": "white",
            "ticks": ""
           },
           "bgcolor": "#E5ECF6",
           "caxis": {
            "gridcolor": "white",
            "linecolor": "white",
            "ticks": ""
           }
          },
          "title": {
           "x": 0.05
          },
          "xaxis": {
           "automargin": true,
           "gridcolor": "white",
           "linecolor": "white",
           "ticks": "",
           "title": {
            "standoff": 15
           },
           "zerolinecolor": "white",
           "zerolinewidth": 2
          },
          "yaxis": {
           "automargin": true,
           "gridcolor": "white",
           "linecolor": "white",
           "ticks": "",
           "title": {
            "standoff": 15
           },
           "zerolinecolor": "white",
           "zerolinewidth": 2
          }
         }
        },
        "title": {
         "font": {
          "size": 18
         },
         "text": "User Journey Analysis<br><sub>Market - All Markets | Star Loyalty Level - GOLD | Segment - All Segments | User Type - All User Types</sub>",
         "x": 0.5,
         "xanchor": "center"
        },
        "width": 1600
       }
      }
     },
     "metadata": {},
     "output_type": "display_data"
    }
   ],
   "source": [
    "# User input for market, starLoyaltyLevel, segment, and user_type\n",
    "market_input = input(\n",
    "    \"Enter the market you want to analyze (or press Enter for all markets): \"\n",
    ")\n",
    "starLoyaltyLevel_input = input(\n",
    "    \"Enter the starLoyaltyLevel you want to analyze (or press Enter for all levels): \"\n",
    ")\n",
    "segment_input = input(\n",
    "    \"Enter the segment you want to analyze (or press Enter for all segments): \"\n",
    ")\n",
    "user_type_input = input(\n",
    "    \"Enter the user type you want to analyze (or press Enter for all user types): \"\n",
    ")\n",
    "file_prefix = (\n",
    "    input(\"Enter the prefix for the output file name (default: sankey_diagram): \")\n",
    "    or \"sankey_diagram\"\n",
    ")\n",
    "\n",
    "# Generate the Sankey diagram for the specified inputs\n",
    "generate_sankey(\n",
    "    market_input=market_input,\n",
    "    starLoyaltyLevel_input=starLoyaltyLevel_input,\n",
    "    segment_input=segment_input,\n",
    "    user_type_input=user_type_input,  # Pass the user_type_input to the function\n",
    "    top_n=50,  # You can specify another value here if needed\n",
    "    file_prefix=file_prefix,  # Pass the user-specified file prefix\n",
    ")"
   ]
  }
 ],
 "metadata": {
  "kernelspec": {
   "display_name": "food.copilot",
   "language": "python",
   "name": "python3"
  },
  "language_info": {
   "codemirror_mode": {
    "name": "ipython",
    "version": 3
   },
   "file_extension": ".py",
   "mimetype": "text/x-python",
   "name": "python",
   "nbconvert_exporter": "python",
   "pygments_lexer": "ipython3",
   "version": "3.12.2"
  }
 },
 "nbformat": 4,
 "nbformat_minor": 2
}
